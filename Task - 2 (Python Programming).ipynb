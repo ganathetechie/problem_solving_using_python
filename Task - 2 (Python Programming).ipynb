{
 "cells": [
  {
   "cell_type": "markdown",
   "metadata": {},
   "source": [
    "The following notebook contains solutions to the problems dolved from hackerrank https://www.hackerrank.com/domains/python?filters%5Bsubdomains%5D%5B%5D=py-basic-data-types&filters%5Bsubdomains%5D%5B%5D=py-sets."
   ]
  },
  {
   "cell_type": "markdown",
   "metadata": {},
   "source": [
    "# Problem 1: Nested Lists"
   ]
  },
  {
   "cell_type": "code",
   "execution_count": null,
   "metadata": {},
   "outputs": [],
   "source": [
    "if __name__ == '__main__':\n",
    "    my_array = []\n",
    "    for i in range(int(input())):\n",
    "        name = input()\n",
    "        score = float(input())\n",
    "        my_array.append([score, name])\n",
    "        my_array.sort()\n",
    "    new_array =[]\n",
    "    minimum = my_array[0][0]\n",
    "    for value in my_array:\n",
    "        if value[0] == minimum:\n",
    "            continue\n",
    "        else:\n",
    "            new_array.append(value)\n",
    "    final = []\n",
    "    for j in new_array:\n",
    "        if j[0] == new_array[0][0]:\n",
    "            final.append(j[1])\n",
    "    final_list = sorted(final)\n",
    "    for value in final_list:\n",
    "        print(value)"
   ]
  },
  {
   "cell_type": "markdown",
   "metadata": {},
   "source": [
    "# Problem 2: List Comprehensions"
   ]
  },
  {
   "cell_type": "code",
   "execution_count": null,
   "metadata": {},
   "outputs": [],
   "source": [
    "if __name__ == '__main__':\n",
    "    x = int(input())\n",
    "    y = int(input())\n",
    "    z = int(input())\n",
    "    n = int(input())\n",
    "list_of_numbers = [[i,j,k] for i in range(x+1) for j in range(y+1) for k in range(z+1)]\n",
    "results = [val for val in list_of_numbers if sum(val) !=n]\n",
    "print(results)"
   ]
  },
  {
   "cell_type": "markdown",
   "metadata": {},
   "source": [
    "# Problem 3: Lists"
   ]
  },
  {
   "cell_type": "code",
   "execution_count": null,
   "metadata": {},
   "outputs": [],
   "source": [
    "if __name__ == '__main__':\n",
    "    N = int(input())\n",
    "    my_list = []\n",
    "    for i in range (N):\n",
    "        cmd = input().split()\n",
    "        if cmd[0] == 'append':\n",
    "            my_list.append(int(cmd[1]))\n",
    "        elif cmd[0] == \"insert\":\n",
    "            my_list.insert(int(cmd[1]), int(cmd[2]))\n",
    "        elif cmd[0] == \"print\":\n",
    "            print(my_list)\n",
    "        elif cmd[0] == 'remove':\n",
    "            my_list.remove(int(cmd[1]))\n",
    "        elif cmd[0] == 'append':\n",
    "            my_list.append(int(cmd[1]))\n",
    "        elif cmd[0] == 'pop':\n",
    "            my_list.pop()\n",
    "        elif cmd[0] == 'sort':\n",
    "            my_list.sort()\n",
    "        elif cmd[0] == 'reverse':\n",
    "            my_list.reverse()"
   ]
  },
  {
   "cell_type": "markdown",
   "metadata": {},
   "source": [
    "# Problem 4: Tuples"
   ]
  },
  {
   "cell_type": "code",
   "execution_count": null,
   "metadata": {},
   "outputs": [],
   "source": [
    "if __name__ == '__main__':\n",
    "    n = int(input())\n",
    "    input_line = input()\n",
    "    integer_list = input_line.split()\n",
    "    integer_list = integer_list\n",
    "    for i in range (n):\n",
    "        integer_list[i] = int(integer_list[i])\n",
    "t = tuple(integer_list)\n",
    "print(hash(t))   "
   ]
  },
  {
   "cell_type": "markdown",
   "metadata": {},
   "source": [
    "# Problem 5: Finding the percentage"
   ]
  },
  {
   "cell_type": "code",
   "execution_count": null,
   "metadata": {},
   "outputs": [],
   "source": [
    "if __name__ == '__main__':\n",
    "    n = int(input())\n",
    "    student_marks = {}\n",
    "    for i in range(n):\n",
    "        name, *line = input().split()\n",
    "        scores = list(map(float, line))\n",
    "        student_marks[name] = scores\n",
    "    query_name = input()\n",
    "    list_val = student_marks[query_name]\n",
    "    ans = sum(list_val)/len(list_val)\n",
    "    final_ans = float(ans)\n",
    "    print('%0.*f' % (isinstance(final_ans, float) * 2, final_ans))"
   ]
  },
  {
   "cell_type": "markdown",
   "metadata": {},
   "source": [
    "# Problem 6: Finding the Runner up"
   ]
  },
  {
   "cell_type": "code",
   "execution_count": null,
   "metadata": {},
   "outputs": [],
   "source": [
    "if __name__ == '__main__':\n",
    "    n = int(input())\n",
    "    arr = map(int, input().split())\n",
    "    my_list = list(set(arr))\n",
    "    array = sorted(my_list)\n",
    "    print(array[-2])"
   ]
  },
  {
   "cell_type": "markdown",
   "metadata": {},
   "source": [
    "# Problem 7: Introduction to sets"
   ]
  },
  {
   "cell_type": "code",
   "execution_count": null,
   "metadata": {},
   "outputs": [],
   "source": [
    "def average(array):\n",
    "    # your code goes here\n",
    "    average_val = sum(set(array))/len(set(array))\n",
    "    return (f'{average_val:.3f}')\n",
    "if __name__ == '__main__':\n",
    "    n = int(input())\n",
    "    arr = list(map(int, input().split()))\n",
    "    result = average(arr)\n",
    "    print(result)"
   ]
  },
  {
   "cell_type": "markdown",
   "metadata": {},
   "source": [
    "# Problem 8: No Idea"
   ]
  },
  {
   "cell_type": "code",
   "execution_count": null,
   "metadata": {},
   "outputs": [],
   "source": [
    "# Enter your code here. Read input from STDIN. Print output to STDOUT\n",
    "values = input().split()\n",
    "n = int(values[0])\n",
    "m = int(values [1])\n",
    "arr = list(map(int, input().split()))\n",
    "SetA = set(list(map(int, input().split())))\n",
    "SetB = set(list(map(int, input().split())))\n",
    "happiness = 0\n",
    "for i in range (n):\n",
    "    if arr[i] in SetA:\n",
    "        happiness+= 1\n",
    "    elif arr[i] in SetB:\n",
    "        happiness-= 1\n",
    "print(happiness)"
   ]
  },
  {
   "cell_type": "markdown",
   "metadata": {},
   "source": [
    "# Problem 9: Symmetric Difference"
   ]
  },
  {
   "cell_type": "code",
   "execution_count": null,
   "metadata": {},
   "outputs": [],
   "source": [
    "# Enter your code here. Read input from STDIN. Print output to STDOUT\n",
    "a = int(input())\n",
    "a_list = list(map(int,input().split()))\n",
    "b = int(input())\n",
    "b_list = list(map(int,input().split()))\n",
    "set1 = set(a_list)\n",
    "set2 = set(b_list)\n",
    "difference = set1.symmetric_difference(set2)\n",
    "for x in sorted(difference):\n",
    "    print(x)\n"
   ]
  },
  {
   "cell_type": "markdown",
   "metadata": {},
   "source": [
    "# Problem 10: Set.add()"
   ]
  },
  {
   "cell_type": "code",
   "execution_count": null,
   "metadata": {},
   "outputs": [],
   "source": [
    "# Enter your code here. Read input from STDIN. Print output to STDOUT\n",
    "n = int(input())\n",
    "countries = set()\n",
    "for i in range(n):\n",
    "    countries.add(input())\n",
    "print(len(countries))\n"
   ]
  },
  {
   "cell_type": "markdown",
   "metadata": {},
   "source": [
    "# Problem 11: Set .discard(), .remove() & .pop()"
   ]
  },
  {
   "cell_type": "code",
   "execution_count": null,
   "metadata": {},
   "outputs": [],
   "source": [
    "n = int(input())\n",
    "s = set(map(int, input().split()))\n",
    "N = int(input())\n",
    "for i in range (N):\n",
    "    cmd = input().split()\n",
    "    if cmd[0] == 'pop':\n",
    "        s.pop()\n",
    "    elif cmd[0] == 'discard':\n",
    "        s.discard(int(cmd[1]))\n",
    "    elif cmd[0] == 'remove':\n",
    "        s.remove(int(cmd[1]))\n",
    "print(sum(s))\n"
   ]
  },
  {
   "cell_type": "markdown",
   "metadata": {},
   "source": [
    "# Problem 12: Set .union() Operation\n",
    "\n"
   ]
  },
  {
   "cell_type": "code",
   "execution_count": null,
   "metadata": {},
   "outputs": [],
   "source": [
    "# Enter your code here. Read input from STDIN. Print output to STDOUT\n",
    "a = int(input())\n",
    "A = input().split()\n",
    "b = int(input())\n",
    "B = input().split()\n",
    "A_set = set([int(i) for i in A])\n",
    "B_set = set([int(j) for j in B])\n",
    "print(len(A_set.union(B_set)))\n"
   ]
  },
  {
   "cell_type": "markdown",
   "metadata": {},
   "source": [
    "# Problem 13: Set .intersection() Operation"
   ]
  },
  {
   "cell_type": "code",
   "execution_count": null,
   "metadata": {},
   "outputs": [],
   "source": [
    "# Enter your code here. Read input from STDIN. Print output to STDOUT\n",
    "a = int(input())\n",
    "A = input().split()\n",
    "b = int(input())\n",
    "B = input().split()\n",
    "A_set = set([int(i) for i in A])\n",
    "B_set = set([int(j) for j in B])\n",
    "print(len(A_set.intersection(B_set)))"
   ]
  },
  {
   "cell_type": "markdown",
   "metadata": {},
   "source": [
    "# Problem 14: Set .difference() Operation"
   ]
  },
  {
   "cell_type": "code",
   "execution_count": null,
   "metadata": {},
   "outputs": [],
   "source": [
    "# Enter your code here. Read input from STDIN. Print output to STDOUT\n",
    "# Enter your code here. Read input from STDIN. Print output to STDOUT\n",
    "a = int(input())\n",
    "A = input().split()\n",
    "b = int(input())\n",
    "B = input().split()\n",
    "A_set = set([int(i) for i in A])\n",
    "B_set = set([int(j) for j in B])\n",
    "print(len(A_set.difference(B_set)))"
   ]
  },
  {
   "cell_type": "markdown",
   "metadata": {},
   "source": [
    "# Problem 15: Set .symmetric_difference() Operation"
   ]
  },
  {
   "cell_type": "code",
   "execution_count": null,
   "metadata": {},
   "outputs": [],
   "source": [
    "# Enter your code here. Read input from STDIN. Print output to STDOUT\n",
    "# Enter your code here. Read input from STDIN. Print output to STDOUT\n",
    "a = int(input())\n",
    "A = input().split()\n",
    "b = int(input())\n",
    "B = input().split()\n",
    "A_set = set([int(i) for i in A])\n",
    "B_set = set([int(j) for j in B])\n",
    "print(len(A_set.symmetric_difference(B_set)))"
   ]
  },
  {
   "cell_type": "markdown",
   "metadata": {},
   "source": [
    "# Problem 16: Set Mutations"
   ]
  },
  {
   "cell_type": "code",
   "execution_count": null,
   "metadata": {},
   "outputs": [],
   "source": [
    "# Enter your code here. Read input from STDIN. Print output to STDOUT\n",
    "N = int(input())\n",
    "arr = list(map(int,input().split()))\n",
    "my_set = set(arr)\n",
    "count = int(input())\n",
    "for i in range(count):\n",
    "    line1 = input().split()\n",
    "    line2 = set(list(map(int,input().split())))\n",
    "    if line1[0] == \"intersection_update\":\n",
    "        my_set.intersection_update(line2)\n",
    "    elif line1[0] == 'update':\n",
    "        my_set.update(line2)\n",
    "    elif line1[0] == 'symmetric_difference_update':\n",
    "        my_set.symmetric_difference_update(line2)\n",
    "    elif line1[0] == 'difference_update':\n",
    "        my_set.difference_update(line2)\n",
    "print(sum(my_set))\n"
   ]
  },
  {
   "cell_type": "markdown",
   "metadata": {},
   "source": [
    "# Problem 17: The Captain's Room"
   ]
  },
  {
   "cell_type": "code",
   "execution_count": null,
   "metadata": {},
   "outputs": [],
   "source": [
    "# Enter your code here. Read input from STDIN. Print output to STDOUT\n",
    "from collections import Counter\n",
    "K = int(input())\n",
    "room_numbers = list(map(int,input().split()))\n",
    "d = Counter(room_numbers)\n",
    "result = dict(d)\n",
    "for key,value in result.items():\n",
    "    if value == 1:\n",
    "        print(key)"
   ]
  },
  {
   "cell_type": "markdown",
   "metadata": {},
   "source": [
    "# Problem 18: Check Subset"
   ]
  },
  {
   "cell_type": "code",
   "execution_count": null,
   "metadata": {},
   "outputs": [],
   "source": [
    "# Enter your code here. Read input from STDIN. Print output to STDOUT\n",
    "T = int(input())\n",
    "for i in range (T):\n",
    "    a = int(input())\n",
    "    a_vals = set(list(map(int, input().split())))\n",
    "    b = int(input())\n",
    "    b_vals = set(list(map(int, input().split())))\n",
    "    if a_vals.issubset(b_vals):\n",
    "        print(True)\n",
    "    else:\n",
    "        print(False)"
   ]
  },
  {
   "cell_type": "markdown",
   "metadata": {},
   "source": [
    "# Problem 19: Check Strict Superset\n",
    "\n"
   ]
  },
  {
   "cell_type": "code",
   "execution_count": null,
   "metadata": {},
   "outputs": [],
   "source": [
    "# Enter your code here. Read input from STDIN. Print output to STDOUT\n",
    "A = set(list(map(int, input().split())))\n",
    "N = int(input())\n",
    "result = []\n",
    "for i in range (N):\n",
    "    next_set = set(list(map(int, input().split())))\n",
    "    if A.issuperset(next_set):\n",
    "        result.append(True)\n",
    "    else:\n",
    "        result.append(False)\n",
    "my_set = set(result)\n",
    "if False in my_set:\n",
    "    print(False)\n",
    "else:\n",
    "    print(True)"
   ]
  }
 ],
 "metadata": {
  "kernelspec": {
   "display_name": "Python 3",
   "language": "python",
   "name": "python3"
  },
  "language_info": {
   "codemirror_mode": {
    "name": "ipython",
    "version": 3
   },
   "file_extension": ".py",
   "mimetype": "text/x-python",
   "name": "python",
   "nbconvert_exporter": "python",
   "pygments_lexer": "ipython3",
   "version": "3.7.1"
  }
 },
 "nbformat": 4,
 "nbformat_minor": 2
}
