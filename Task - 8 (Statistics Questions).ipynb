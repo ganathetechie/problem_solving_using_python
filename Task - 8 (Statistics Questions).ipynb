{
 "cells": [
  {
   "cell_type": "markdown",
   "metadata": {},
   "source": [
    "# Binomial Distribution I"
   ]
  },
  {
   "cell_type": "code",
   "execution_count": null,
   "metadata": {},
   "outputs": [],
   "source": [
    "# Enter your code here. Read input from STDIN. Print output to STDOUT\n",
    "import math\n",
    "\n",
    "def bi_dist(r, n, p):\n",
    "    b = (math.factorial(n)/(math.factorial(r)*math.factorial(n-r)))*(p**r)*((1-p)**(n-r))\n",
    "    return(b)\n",
    "result = 0\n",
    "n = 6\n",
    "p = 1.09/2.09\n",
    "for i in range(3,7):\n",
    "    result += bi_dist(i, n, p)   \n",
    "print(\"%.3f\" %result)"
   ]
  },
  {
   "cell_type": "markdown",
   "metadata": {},
   "source": [
    "# Binomial Distribution II"
   ]
  },
  {
   "cell_type": "code",
   "execution_count": null,
   "metadata": {},
   "outputs": [],
   "source": [
    "# Enter your code here. Read input from STDIN. Print output to STDOUT\n",
    "import math\n",
    "\n",
    "def bi_dist(r, n, p):\n",
    "    c = (math.factorial(n)/(math.factorial(r)*math.factorial(n-r)))*(p**r)*((1-p)**(n-r))\n",
    "    return(c)\n",
    "\n",
    "b, p, n = 0, 0.12, 10\n",
    "for i in range(3):\n",
    "    b += bi_dist(i, n, p)   \n",
    "print(\"%.3f\" % b)\n",
    "nb = 0\n",
    "for i in range(2,10):\n",
    "    nb += bi_dist(i, n, p)  \n",
    "print(\"%.3f\" % nb)\n"
   ]
  },
  {
   "cell_type": "markdown",
   "metadata": {},
   "source": [
    "# Normal Distribution I"
   ]
  },
  {
   "cell_type": "code",
   "execution_count": null,
   "metadata": {},
   "outputs": [],
   "source": [
    "# Enter your code here. Read input from STDIN. Print output to STDOUT\n",
    "mu = 20\n",
    "s = 2\n",
    "import math\n",
    "def normal_dist(x,mu,s):\n",
    "    numerator = math.e**-((x-mu)**2/(2*s**2))\n",
    "    denominator = (math.sqrt(2*math.pi))*s\n",
    "    return numerator/denominator\n",
    "def find_probability(minimum, maximum):\n",
    "    i, step, a = minimum, 0.001, 0\n",
    "    a = 0\n",
    "    while i < maximum:\n",
    "        a += (normal_dist(i,20,2)*step)\n",
    "        i += step\n",
    "    return round(a,3)\n",
    "print(find_probability(0,19.5))\n",
    "print(find_probability(20,22))"
   ]
  },
  {
   "cell_type": "markdown",
   "metadata": {},
   "source": [
    "# Normal Distribution II"
   ]
  },
  {
   "cell_type": "code",
   "execution_count": null,
   "metadata": {},
   "outputs": [],
   "source": [
    "# Enter your code here. Read input from STDIN. Print output to STDOUT\n",
    "\n",
    "mu = 70\n",
    "s = 10\n",
    "import math\n",
    "def normal_dist(x,mu = 70,s = 10):\n",
    "    return 0.5*(1 + math.erf((x-mu)/(s*math.sqrt(2))))\n",
    "\n",
    "a = (1- normal_dist(80) )* 100\n",
    "b = (1 - normal_dist(60))* 100\n",
    "c = 100 - b\n",
    "print(\"%.2f\" %a)\n",
    "print(\"%.2f\" %b)\n",
    "print(\"%.2f\" %c)"
   ]
  },
  {
   "cell_type": "markdown",
   "metadata": {},
   "source": [
    "# The Central Limit Theorem I"
   ]
  },
  {
   "cell_type": "code",
   "execution_count": null,
   "metadata": {},
   "outputs": [],
   "source": [
    "# Enter your code here. Read input from STDIN. Print output to STDOUT\n",
    "import math\n",
    "mu = 205*49\n",
    "s = 15*math.sqrt(49)\n",
    "\n",
    "def normal_dist(x,mu,s):\n",
    "    return 0.5*(1 + math.erf((x-mu)/(s*math.sqrt(2))))\n",
    "\n",
    "print(\"%.4f\" %normal_dist(9800, mu, s))\n"
   ]
  },
  {
   "cell_type": "markdown",
   "metadata": {},
   "source": [
    "# The Central Limit Theorem II"
   ]
  },
  {
   "cell_type": "code",
   "execution_count": null,
   "metadata": {},
   "outputs": [],
   "source": [
    "# Enter your code here. Read input from STDIN. Print output to STDOUT\n",
    "import math\n",
    "mu_ = 2.4*100\n",
    "std = 2.0*10\n",
    "X = 250\n",
    "\n",
    "def normal_dist(x,mu,s):\n",
    "    return 0.5*(1 + math.erf((x-mu)/(s*math.sqrt(2))))\n",
    "\n",
    "print(\"%.4f\" % normal_dist(250,mu_,std))\n"
   ]
  },
  {
   "cell_type": "markdown",
   "metadata": {},
   "source": [
    "# The Central Limit Theorem III"
   ]
  },
  {
   "cell_type": "code",
   "execution_count": null,
   "metadata": {},
   "outputs": [],
   "source": [
    "# Enter your code here. Read input from STDIN. Print output to STDOUT\n",
    "from math import sqrt\n",
    "\n",
    "n = int(input())\n",
    "mu = int(input())\n",
    "std = int(input())\n",
    "interval = float(input())\n",
    "z = float(input())\n",
    "print(round(mu - (std / sqrt(n)) * z, 2))\n",
    "print(round(mu + (std / sqrt(n)) * z, 2))\n"
   ]
  },
  {
   "cell_type": "markdown",
   "metadata": {},
   "source": [
    "# Pearson Correlation Coefficient I\n",
    "\n"
   ]
  },
  {
   "cell_type": "code",
   "execution_count": null,
   "metadata": {},
   "outputs": [],
   "source": [
    "# Enter your code here. Read input from STDIN. Print output to STDOUT\n",
    "N = int(input())\n",
    "X = list(map(float,input().strip().split()))\n",
    "Y = list(map(float,input().strip().split()))\n",
    "Ux = sum(X)/len(X)\n",
    "Sx = (sum([(i - Ux)**2 for i in X])/N)**0.5\n",
    "Uy = sum(Y)/len(Y)\n",
    "Sy = (sum([(i - Uy)**2 for i in Y])/N)**0.5\n",
    "\n",
    "numerator = 0\n",
    "for i in range(N):\n",
    "    numerator += (X[i] - Ux)*(Y[i] - Uy)\n",
    "P = numerator/(N*Sx*Sy)\n",
    "print(\"%.3f\" %P)\n"
   ]
  },
  {
   "cell_type": "markdown",
   "metadata": {},
   "source": [
    "# Least Square Regression Line\n",
    "\n"
   ]
  },
  {
   "cell_type": "code",
   "execution_count": null,
   "metadata": {},
   "outputs": [],
   "source": [
    "# Enter your code here. Read input from STDIN. Print output to STDOUT\n",
    "X = [95,85,80,70,60]\n",
    "Y = [85,95,70,65,70]\n",
    "a = 0\n",
    "for i in range(len(X)):\n",
    "    a+= X[i]*Y[i]\n",
    "numerator = a*len(X)- sum(X)*sum(Y)\n",
    "b = 0 \n",
    "for i in range(len(X)):\n",
    "    b+= X[i]**2\n",
    "denominator = b*len(X) - sum(X)**2\n",
    "\n",
    "m = numerator/denominator\n",
    "c = (sum(Y)/len(Y)) - m*(sum(X)/len(X))\n",
    "res = m*80 + c\n",
    "print(round(res,3))\n"
   ]
  },
  {
   "cell_type": "markdown",
   "metadata": {},
   "source": [
    "# Multiple Linear Regression\n",
    "\n"
   ]
  },
  {
   "cell_type": "code",
   "execution_count": null,
   "metadata": {},
   "outputs": [],
   "source": [
    "# Enter your code here. Read input from STDIN. Print output to STDOUT\n",
    "import numpy as np\n",
    "from sklearn.linear_model import LinearRegression\n",
    "\n",
    "\n",
    "M, N = map(int, input().split())\n",
    "ab = [list(map(float, input().split())) for i in range(N)]\n",
    "b = np.array([i.pop() for i in ab])\n",
    "a = np.array(ab)\n",
    "\n",
    "lm = LinearRegression()\n",
    "lm.fit(a, b)\n",
    "\n",
    "\n",
    "q = int(input())\n",
    "for b in range(q):\n",
    "    print(float(lm.predict([np.array(input().split(), float)])))\n"
   ]
  },
  {
   "cell_type": "code",
   "execution_count": null,
   "metadata": {},
   "outputs": [],
   "source": []
  }
 ],
 "metadata": {
  "kernelspec": {
   "display_name": "Python 3",
   "language": "python",
   "name": "python3"
  },
  "language_info": {
   "codemirror_mode": {
    "name": "ipython",
    "version": 3
   },
   "file_extension": ".py",
   "mimetype": "text/x-python",
   "name": "python",
   "nbconvert_exporter": "python",
   "pygments_lexer": "ipython3",
   "version": "3.7.1"
  }
 },
 "nbformat": 4,
 "nbformat_minor": 2
}
