{
 "cells": [
  {
   "cell_type": "markdown",
   "metadata": {},
   "source": [
    "# Problem Solving"
   ]
  },
  {
   "cell_type": "markdown",
   "metadata": {},
   "source": [
    "Problem 1: Given a number N,find all the possible factors of N in a list."
   ]
  },
  {
   "cell_type": "code",
   "execution_count": 161,
   "metadata": {},
   "outputs": [
    {
     "name": "stdout",
     "output_type": "stream",
     "text": [
      "500\n"
     ]
    }
   ],
   "source": [
    "a = int(input())"
   ]
  },
  {
   "cell_type": "code",
   "execution_count": 162,
   "metadata": {},
   "outputs": [
    {
     "name": "stdout",
     "output_type": "stream",
     "text": [
      "[1, 2, 4, 5, 10, 20, 25, 50, 100, 125, 250, 500]\n"
     ]
    }
   ],
   "source": [
    "my_list = []\n",
    "for i in range(1,a+1):\n",
    "    if a%i == 0:\n",
    "        my_list.append(i)\n",
    "print(my_list)\n",
    "    "
   ]
  },
  {
   "cell_type": "markdown",
   "metadata": {},
   "source": [
    "Solving the same problem with less complexity:"
   ]
  },
  {
   "cell_type": "code",
   "execution_count": 163,
   "metadata": {},
   "outputs": [
    {
     "name": "stdout",
     "output_type": "stream",
     "text": [
      "[1, 500.0, 2, 250.0, 4, 125.0, 5, 100.0, 10, 50.0, 20, 25.0]\n"
     ]
    }
   ],
   "source": [
    "import math\n",
    "R = int(math.sqrt(a))\n",
    "list_val = []\n",
    "for i in range(1,R+1):\n",
    "    if a%i == 0:\n",
    "        list_val.append(i)\n",
    "        list_val.append(a/i)\n",
    "print(list_val)"
   ]
  },
  {
   "cell_type": "markdown",
   "metadata": {},
   "source": [
    "Problem 2: If a read only array or list of numbers is given such that it contains all the numbers ranging from 0 to length of the array. Having said that, the array has one number missing and therefore one some number would be repeated. Find the missing and repeated values in a given list."
   ]
  },
  {
   "cell_type": "markdown",
   "metadata": {},
   "source": [
    "Solving steps:😉\n",
    "\n",
    "\n",
    "Step 1: Get a list of values from the user and sort the array in ascending order.\n",
    "\n",
    "Step 2: Find the difference between the sum of values of the given array and the sum of N natural numbers, N being the length of the array say X.\n",
    "\n",
    "Step 3: Similarly, Find the difference between the sum of squares of the values between given and N numbers of the array say Y.\n",
    "\n",
    "Step 4: Now calculate the Y/X and store as say Z.\n",
    "\n",
    "Step 5: With X and Z we can calculate the repeated and missing values."
   ]
  },
  {
   "cell_type": "code",
   "execution_count": 157,
   "metadata": {},
   "outputs": [
    {
     "name": "stdout",
     "output_type": "stream",
     "text": [
      "Enter the size of the array 4\n"
     ]
    }
   ],
   "source": [
    "length_of_array = int(input(\"Enter the size of the array \"))"
   ]
  },
  {
   "cell_type": "code",
   "execution_count": 158,
   "metadata": {
    "scrolled": true
   },
   "outputs": [
    {
     "name": "stdout",
     "output_type": "stream",
     "text": [
      "Enter a number2\n",
      "Enter a number2\n",
      "Enter a number1\n",
      "Enter a number4\n"
     ]
    }
   ],
   "source": [
    "user_list =[]\n",
    "for i in range(length_of_array):\n",
    "    i = int(input(\"Enter a number\"))\n",
    "    user_list.append(i)"
   ]
  },
  {
   "cell_type": "code",
   "execution_count": 166,
   "metadata": {},
   "outputs": [],
   "source": [
    "final_list = sorted(user_list)\n",
    "N = len(final_list)\n",
    "\n",
    "\n",
    "sum_of_array = sum(final_list)\n",
    "sum_of_nums = N*(N+1)/2\n",
    "X = abs(sum_of_array - sum_of_nums)\n",
    "\n",
    "\n",
    "sum_of_squares_array = sum(i*i for i in final_list)\n",
    "sum_of_squared_nums = (N*(N+1)*(2*N+1))/6\n",
    "Y = abs(sum_of_squares_array - sum_of_squared_nums)\n",
    "\n",
    "Z = int(Y/X)"
   ]
  },
  {
   "cell_type": "code",
   "execution_count": 167,
   "metadata": {},
   "outputs": [
    {
     "name": "stdout",
     "output_type": "stream",
     "text": [
      "The missed value in the array is 3.0 and the repeated value is 2.0\n"
     ]
    }
   ],
   "source": [
    "repeated_val = abs((X-Z)/2)\n",
    "missed_val = abs((X+Z)/2)\n",
    "print(\"The missed value in the array is {} and the repeated value is {}\". format(missed_val,repeated_val))"
   ]
  },
  {
   "cell_type": "code",
   "execution_count": null,
   "metadata": {},
   "outputs": [],
   "source": []
  }
 ],
 "metadata": {
  "kernelspec": {
   "display_name": "Python 3",
   "language": "python",
   "name": "python3"
  },
  "language_info": {
   "codemirror_mode": {
    "name": "ipython",
    "version": 3
   },
   "file_extension": ".py",
   "mimetype": "text/x-python",
   "name": "python",
   "nbconvert_exporter": "python",
   "pygments_lexer": "ipython3",
   "version": "3.7.1"
  }
 },
 "nbformat": 4,
 "nbformat_minor": 2
}
