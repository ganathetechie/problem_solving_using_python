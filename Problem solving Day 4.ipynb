{
 "cells": [
  {
   "cell_type": "markdown",
   "metadata": {},
   "source": [
    "# Problem 1:"
   ]
  },
  {
   "cell_type": "markdown",
   "metadata": {},
   "source": [
    "Given an array Arr[N], N is the size of the array. What is the maximum value of the output value of |Arr[i] - Arr[j]|"
   ]
  },
  {
   "cell_type": "markdown",
   "metadata": {},
   "source": [
    "This problem can be solved by two methods."
   ]
  },
  {
   "cell_type": "markdown",
   "metadata": {},
   "source": [
    " # Method 1: By using loops to iterate over the list."
   ]
  },
  {
   "cell_type": "code",
   "execution_count": 53,
   "metadata": {},
   "outputs": [
    {
     "name": "stdout",
     "output_type": "stream",
     "text": [
      "Enter the size of the list 5\n"
     ]
    }
   ],
   "source": [
    "size = int(input(\"Enter the size of the list \"))"
   ]
  },
  {
   "cell_type": "code",
   "execution_count": 54,
   "metadata": {},
   "outputs": [
    {
     "name": "stdout",
     "output_type": "stream",
     "text": [
      "Enter the value 4\n",
      "Enter the value 11\n",
      "Enter the value -2\n",
      "Enter the value 0\n",
      "Enter the value 14\n"
     ]
    }
   ],
   "source": [
    "input_list = []\n",
    "for val in range(size):\n",
    "    input_list.append(int(input(\"Enter the value \")))\n",
    "    "
   ]
  },
  {
   "cell_type": "code",
   "execution_count": 55,
   "metadata": {},
   "outputs": [
    {
     "data": {
      "text/plain": [
       "[4, 11, -2, 0, 14]"
      ]
     },
     "execution_count": 55,
     "metadata": {},
     "output_type": "execute_result"
    }
   ],
   "source": [
    "input_list"
   ]
  },
  {
   "cell_type": "code",
   "execution_count": 71,
   "metadata": {},
   "outputs": [
    {
     "name": "stdout",
     "output_type": "stream",
     "text": [
      "The maximum value of the output value of |Arr[i] - Arr[j]| is 16\n"
     ]
    }
   ],
   "source": [
    "minimum = input_list[0]\n",
    "maximum = input_list[0]\n",
    "for i in range (1, len(input_list)):\n",
    "    if minimum > input_list[i]:\n",
    "        minimum = input_list[i]\n",
    "    if maximum < input_list[i]:\n",
    "        maximum = input_list[i]\n",
    "print(\"The maximum value of the output value of |Arr[i] - Arr[j]| is \" + str(abs(minimum-maximum)))\n",
    "        "
   ]
  },
  {
   "cell_type": "markdown",
   "metadata": {},
   "source": [
    "# Method 2: By using the inbuild functions in python."
   ]
  },
  {
   "cell_type": "markdown",
   "metadata": {},
   "source": [
    "This is a very simple and easy method to solve this problem with a single line of code. This is the advantage of using the powerful inbuilt list functions in python."
   ]
  },
  {
   "cell_type": "code",
   "execution_count": 75,
   "metadata": {},
   "outputs": [
    {
     "name": "stdout",
     "output_type": "stream",
     "text": [
      "The maximum value of the output value of |Arr[i] - Arr[j]| is 16\n"
     ]
    }
   ],
   "source": [
    "print(\"The maximum value of the output value of |Arr[i] - Arr[j]| is \" + str(abs(max(input_list)-min(input_list))))"
   ]
  },
  {
   "cell_type": "markdown",
   "metadata": {},
   "source": []
  }
 ],
 "metadata": {
  "kernelspec": {
   "display_name": "Python 3",
   "language": "python",
   "name": "python3"
  },
  "language_info": {
   "codemirror_mode": {
    "name": "ipython",
    "version": 3
   },
   "file_extension": ".py",
   "mimetype": "text/x-python",
   "name": "python",
   "nbconvert_exporter": "python",
   "pygments_lexer": "ipython3",
   "version": "3.7.1"
  }
 },
 "nbformat": 4,
 "nbformat_minor": 2
}
