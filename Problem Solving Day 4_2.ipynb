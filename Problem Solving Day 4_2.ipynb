{
 "cells": [
  {
   "cell_type": "markdown",
   "metadata": {},
   "source": [
    "# Problem 2 _Day 4"
   ]
  },
  {
   "cell_type": "markdown",
   "metadata": {},
   "source": [
    "Problem statement: Given a  matrix or 2D array of shape MxN. \n",
    "\n",
    "Properties of the array: All rows are sorted,  all columns are sorted. \n",
    "\n",
    "Given an element 'K'. Find the index of the value K in the best possible order of N. "
   ]
  },
  {
   "cell_type": "code",
   "execution_count": 13,
   "metadata": {},
   "outputs": [],
   "source": [
    "arr = [[1,2,3],\n",
    "       [4,5,6],\n",
    "       [7,8,9],\n",
    "      [10,11,12]]"
   ]
  },
  {
   "cell_type": "code",
   "execution_count": 14,
   "metadata": {},
   "outputs": [
    {
     "name": "stdout",
     "output_type": "stream",
     "text": [
      "Enter a number from the array 8\n"
     ]
    }
   ],
   "source": [
    "K = int(input(\"Enter a number from the array \"))"
   ]
  },
  {
   "cell_type": "code",
   "execution_count": 15,
   "metadata": {},
   "outputs": [
    {
     "data": {
      "text/plain": [
       "(4, 3)"
      ]
     },
     "execution_count": 15,
     "metadata": {},
     "output_type": "execute_result"
    }
   ],
   "source": [
    "r = len(arr)\n",
    "c = len(arr[0])\n",
    "r,c"
   ]
  },
  {
   "cell_type": "code",
   "execution_count": 25,
   "metadata": {},
   "outputs": [
    {
     "name": "stdout",
     "output_type": "stream",
     "text": [
      "The index of the given value is (2,1)\n"
     ]
    }
   ],
   "source": [
    "row_line = 0\n",
    "col_line = c-1\n",
    "for i in range (1, r+c):\n",
    "    if K > arr[row_line][col_line]:\n",
    "        row_line = row_line+1\n",
    "        col_line = col_line\n",
    "    elif K < arr[row_line][col_line]:\n",
    "        row_line = row_line\n",
    "        col_line = col_line-1\n",
    "    elif K == arr[row_line][col_line]:\n",
    "        print(\"The index of the given value is ({},{})\".format(row_line, col_line))\n",
    "        break\n",
    "    "
   ]
  }
 ],
 "metadata": {
  "kernelspec": {
   "display_name": "Python 3",
   "language": "python",
   "name": "python3"
  },
  "language_info": {
   "codemirror_mode": {
    "name": "ipython",
    "version": 3
   },
   "file_extension": ".py",
   "mimetype": "text/x-python",
   "name": "python",
   "nbconvert_exporter": "python",
   "pygments_lexer": "ipython3",
   "version": "3.7.1"
  }
 },
 "nbformat": 4,
 "nbformat_minor": 2
}
